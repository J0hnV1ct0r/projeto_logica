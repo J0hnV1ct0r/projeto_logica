{
  "cells": [
    {
      "cell_type": "markdown",
      "metadata": {
        "id": "view-in-github",
        "colab_type": "text"
      },
      "source": [
        "<a href=\"https://colab.research.google.com/github/J0hnV1ct0r/projeto_logica/blob/main/Projetos_de_Logica.ipynb\" target=\"_parent\"><img src=\"https://colab.research.google.com/assets/colab-badge.svg\" alt=\"Open In Colab\"/></a>"
      ]
    },
    {
      "cell_type": "markdown",
      "metadata": {
        "id": "Sv9V_ExErlJu"
      },
      "source": [
        "\n",
        "\n",
        "# Formulas\n",
        "---\n",
        "\n"
      ]
    },
    {
      "cell_type": "code",
      "execution_count": null,
      "metadata": {
        "id": "07tuexsGrh6D"
      },
      "outputs": [],
      "source": [
        "class Formula:\n",
        "    def __init__(self):\n",
        "        pass\n",
        "\n",
        "\n",
        "class Atom(Formula):\n",
        "    \"\"\"\n",
        "    This class represents propositional logic variables.\n",
        "    \"\"\"\n",
        "\n",
        "    def __init__(self, name):\n",
        "        super().__init__()\n",
        "        self.name = name\n",
        "\n",
        "    def __str__(self):\n",
        "        return str(self.name)\n",
        "\n",
        "    def __eq__(self, other):\n",
        "        return isinstance(other, Atom) and other.name == self.name\n",
        "\n",
        "    def __hash__(self):\n",
        "        return hash((self.name, 'atom'))\n",
        "\n",
        "\n",
        "class Implies(Formula):\n",
        "\n",
        "    def __init__(self, left, right):\n",
        "        super().__init__()\n",
        "        self.left = left\n",
        "        self.right = right\n",
        "\n",
        "    def __str__(self):\n",
        "        return \"(\" + self.left.__str__() + \" \" + u\"\\u2192\" + \" \" + self.right.__str__() + \")\"\n",
        "\n",
        "    def __eq__(self, other):\n",
        "        return isinstance(other, Implies) and other.left == self.left and other.right == self.right\n",
        "\n",
        "    def __hash__(self):\n",
        "        return hash((hash(self.left), hash(self.right), 'implies'))\n",
        "\n",
        "\n",
        "class Not(Formula):\n",
        "\n",
        "    def __init__(self, inner):\n",
        "        super().__init__()\n",
        "        self.inner = inner\n",
        "\n",
        "    def __str__(self):\n",
        "        return \"(\" + u\"\\u00ac\" + str(self.inner) + \")\"\n",
        "\n",
        "    def __eq__(self, other):\n",
        "        return isinstance(other, Not) and other.inner == self.inner\n",
        "\n",
        "    def __hash__(self):\n",
        "        return hash((hash(self.inner), 'not'))\n",
        "\n",
        "\n",
        "class And(Formula):\n",
        "\n",
        "    def __init__(self, left, right):\n",
        "        super().__init__()\n",
        "        self.left = left\n",
        "        self.right = right\n",
        "\n",
        "    def __str__(self):\n",
        "        return \"(\" + self.left.__str__() + \" \" + u\"\\u2227\" + \" \" + self.right.__str__() + \")\"\n",
        "\n",
        "    def __eq__(self, other):\n",
        "        return isinstance(other, And) and other.left == self.left and other.right == self.right\n",
        "\n",
        "    def __hash__(self):\n",
        "        return hash((hash(self.left), hash(self.right), 'and'))\n",
        "\n",
        "\n",
        "class Or(Formula):\n",
        "\n",
        "    def __init__(self, left, right):\n",
        "        super().__init__()\n",
        "        self.left = left\n",
        "        self.right = right\n",
        "\n",
        "    def __str__(self):\n",
        "        return \"(\" + self.left.__str__() + \" \" + u\"\\u2228\" + \" \" + self.right.__str__() + \")\"\n",
        "\n",
        "    def __eq__(self, other):\n",
        "        return isinstance(other, Or) and other.left == self.left and other.right == self.right\n",
        "\n",
        "    def __hash__(self):\n",
        "        return hash((hash(self.left), hash(self.right), 'or'))"
      ]
    },
    {
      "cell_type": "markdown",
      "metadata": {
        "id": "8gMhNhPDsUu0"
      },
      "source": [
        "# Funcões"
      ]
    },
    {
      "cell_type": "code",
      "execution_count": null,
      "metadata": {
        "id": "Hv8-zj54sZaj"
      },
      "outputs": [],
      "source": [
        "def length(formula):\n",
        "    \"\"\"Determines the length of a formula in propositional logic.\"\"\"\n",
        "    # Not(Implies(Atom('U'), And(Atom('R'), Atom('B'))))\n",
        "    if isinstance(formula, Atom):\n",
        "        return 1\n",
        "    if isinstance(formula, Not):\n",
        "        return length(formula.inner) + 1\n",
        "    if isinstance(formula, Implies) or isinstance(formula, And) or isinstance(formula, Or):\n",
        "        return length(formula.left) + length(formula.right) + 1\n",
        "\n",
        "\n",
        "def subformulas(formula):\n",
        "    \"\"\"Returns the set of all subformulas of a formula.\n",
        "    For example, observe the piece of code below.\n",
        "    my_formula = Implies(Atom('p'), Or(Atom('p'), Atom('s')))\n",
        "    for subformula in subformulas(my_formula):\n",
        "        print(subformula)\n",
        "    This piece of code prints p, s, (p v s), (p → (p v s))\n",
        "    (Note that there is no repetition of p)\n",
        "    \"\"\"\n",
        "\n",
        "    if isinstance(formula, Atom):\n",
        "        return {formula}\n",
        "    if isinstance(formula, Not):\n",
        "        return {formula}.union(subformulas(formula.inner))\n",
        "    if isinstance(formula, Implies) or isinstance(formula, And) or isinstance(formula, Or):\n",
        "        sub1 = subformulas(formula.left)\n",
        "        sub2 = subformulas(formula.right)\n",
        "        return {formula}.union(sub1).union(sub2)\n",
        "\n",
        "#  we have shown in class that, for all formula A, len(subformulas(A)) <= length(A).\n",
        "\n",
        "\n",
        "def atoms(formula):\n",
        "    \"\"\"Returns the set of all atoms occurring in a formula.\n",
        "    For example, observe the piece of code below.\n",
        "    my_formula = Implies(Atom('p'), Or(Atom('p'), Atom('s')))\n",
        "    for atom in atoms(my_formula):\n",
        "        print(atom)\n",
        "    This piece of code above prints: p, s\n",
        "    (Note that there is no repetition of p)\n",
        "    \"\"\"\n",
        "    if isinstance(formula, Atom):\n",
        "      return {formula}\n",
        "    if isinstance(formula, Not):\n",
        "      return atoms(formula.inner)\n",
        "    if isinstance(formula, Implies) or isinstance(formula, And) or isinstance(formula, Or):\n",
        "      sub1 = atoms(formula.left)\n",
        "      sub2 = atoms(formula.right)\n",
        "      return (sub1).union(sub2)\n",
        "\n",
        "   # ======== REMOVE THIS LINE AND INSERT YOUR CODE HERE ========\n",
        "\n",
        "\n",
        "def number_of_atoms(formula):\n",
        "    \"\"\"Returns the number of atoms occurring in a formula.\n",
        "    For instance,\n",
        "    number_of_atoms(Implies(Atom('q'), And(Atom('p'), Atom('q'))))\n",
        "    must return 3 (Observe that this function counts the repetitions of atoms)\n",
        "    \"\"\"\n",
        "    if isinstance(formula, Atom):\n",
        "      return 1\n",
        "    if isinstance(formula, Not):\n",
        "      return number_of_atoms(formula.inner)\n",
        "    if isinstance(formula, Implies) or isinstance(formula, And) or isinstance(formula, Or):\n",
        "      sub1 = number_of_atoms(formula.left)\n",
        "      sub2 = number_of_atoms(formula.right)\n",
        "      return sub1 + sub2\n",
        "\n",
        "\n",
        "\n",
        "def number_of_connectives(formula):\n",
        "    if isinstance(formula,Atom):\n",
        "      return 0\n",
        "    if isinstance(formula, Not):\n",
        "      return 1 + number_of_connectives(formula.inner)\n",
        "    if isinstance(formula, Implies) or isinstance(formula, And) or isinstance(formula, Or):\n",
        "      sub1 = number_of_connectives(formula.left)\n",
        "      sub2 = number_of_connectives(formula.right)\n",
        "      return 1 + sub1 + sub2\n",
        "\n",
        "def is_literal(formula):\n",
        "    \"\"\"Returns True if formula is a literal. It returns False, otherwise\"\"\"\n",
        "    if isinstance(formula,Atom):\n",
        "      return True\n",
        "    if isinstance(formula,Not):\n",
        "      return is_literal(formula.inner)\n",
        "    if isinstance(formula, Implies) or isinstance(formula,And) or isinstance(formula,Or):\n",
        "      return False\n",
        "       # ======== REMOVE THIS LINE AND INSERT YOUR CODE HERE ========\n",
        "\n",
        "\n",
        "def substitution(formula, old_subformula, new_subformula):\n",
        "    \"\"\"Returns a new formula obtained by replacing all occurrences\n",
        "    of old_subformula in the input formula by new_subformula.\"\"\"\n",
        "    pass  # ======== REMOVE THIS LINE AND INSERT YOUR CODE HERE ========"
      ]
    },
    {
      "cell_type": "markdown",
      "source": [
        "# Projeto 1"
      ],
      "metadata": {
        "id": "P3_jG_IGus-q"
      }
    },
    {
      "cell_type": "markdown",
      "metadata": {
        "id": "T169vMS1roBa"
      },
      "source": [
        "## Semanticas:"
      ]
    },
    {
      "cell_type": "code",
      "execution_count": null,
      "metadata": {
        "id": "mDhYnMLHrs9G"
      },
      "outputs": [],
      "source": [
        "def truth_value(formula, interpretation):\n",
        "    \"\"\"Determines the truth value of a formula in an interpretation (valuation).\n",
        "    An interpretation may be defined as dictionary. For example, {'p': True, 'q': False}.\n",
        "    \"\"\"\n",
        "    if isinstance(formula,Atom):\n",
        "      return interpretation[formula]\n",
        "    if isinstance(formula,Not):\n",
        "      if truth_value(formula.inner, interpretation) == True:\n",
        "        return False\n",
        "      else:\n",
        "        return True\n",
        "    if isinstance(formula,And):\n",
        "      if truth_value(formula.left, interpretation) == True and truth_value(formula.right, interpretation) == True:\n",
        "        return True\n",
        "      else:\n",
        "        return False\n",
        "    if isinstance(formula,Or):\n",
        "      if truth_value(formula.left, interpretation) == False and truth_value(formula.right, interpretation) == False:\n",
        "        return False\n",
        "      else:\n",
        "        return True\n",
        "    if isinstance(formula,Implies):\n",
        "      if truth_value(formula.left, interpretation) == True and truth_value(formula.right, interpretation) == False:\n",
        "        return False\n",
        "      else:\n",
        "        return True\n",
        "\n",
        "\n",
        "def satisfiability_brute_force(formula):\n",
        "    \"\"\"| T F |\n",
        "       | T F |  \"\"\"\n",
        "    listaAtomicas = atoms(formula)\n",
        "    interpretation = {}\n",
        "    return sat(formula,listaAtomicas,interpretation)\n",
        "\n",
        "def sat(formula,listaAtomicas,interpretation):\n",
        "  listaAtomicas = listaAtomicas.copy()\n",
        "  if len(listaAtomicas) == 0:\n",
        "    if truth_value(formula, interpretation):\n",
        "      return interpretation\n",
        "    else:\n",
        "      return False\n",
        "\n",
        "  atom = listaAtomicas.pop()\n",
        "  #print(\"Pop:\",atom)\n",
        "  #for sai in listaAtomicas:\n",
        "    #print(sai)\n",
        "\n",
        "  interpretation1 = interpretation.copy()\n",
        "  interpretation1[atom] = True\n",
        "  interpretation2 = interpretation.copy()\n",
        "  interpretation2[atom] = False\n",
        "  result = sat(formula,listaAtomicas,interpretation1)\n",
        "  if result:\n",
        "    #print(interpretation1)\n",
        "    #for sai in interpretation1:\n",
        "     #print(sai,\":\",interpretation1[sai])\n",
        "    return result\n",
        "  else:\n",
        "    return sat(formula,listaAtomicas,interpretation2)"
      ]
    },
    {
      "cell_type": "markdown",
      "metadata": {
        "id": "C207qU2TbX0v"
      },
      "source": [
        "## Restrições\n"
      ]
    },
    {
      "cell_type": "code",
      "execution_count": null,
      "metadata": {
        "id": "vYg3po9Aud0c"
      },
      "outputs": [],
      "source": [
        "import pandas as pd\n",
        "\n",
        "\n",
        "def and_all(lista_formulas):\n",
        "  first_formula = lista_formulas[0]\n",
        "  del lista_formulas[0]\n",
        "  for formula in lista_formulas:\n",
        "    first_formula = And(first_formula,formula)\n",
        "  return first_formula\n",
        "\n",
        "def or_all(lista_formulas):\n",
        "  first_formula = lista_formulas[0]\n",
        "  del lista_formulas[0]\n",
        "  for formula in lista_formulas:\n",
        "    first_formula = Or(first_formula,formula)\n",
        "  return first_formula\n",
        "\n",
        "def restricao1(tabela_pacientes,regras):\n",
        "  tabela_paciente_key = tabela_pacientes.keys()\n",
        "  and_lista2 = []\n",
        "  estados = {'GT','LE','S'}\n",
        "  for m in range(regras):\n",
        "    for atr in tabela_paciente_key:\n",
        "      or_lista = []\n",
        "      if atr != 'P':\n",
        "        for state in estados:\n",
        "          temp = Atom('X' + '_' + atr + '_' + str(m + 1) + '_' + state)\n",
        "          for tate in estados:\n",
        "            and_lista = []\n",
        "            if tate != state:\n",
        "              and_lista.append(temp)\n",
        "              and_lista.append(Atom('X' + '_' + atr + '_' + str(m+1) + '_' + tate))\n",
        "              formula_and = Not(and_all(and_lista))\n",
        "              or_lista.append(formula_and)\n",
        "        formula_and = and_all(or_lista)\n",
        "        and_lista2.append(formula_and)\n",
        "  return and_all(and_lista2)\n",
        "\n",
        "\n",
        "\n",
        "\n",
        "def restricao2(tabela_pacientes,regras):\n",
        "  tabela_paciente_key = tabela_pacientes.keys()\n",
        "  and_lista = []\n",
        "  for n in range(regras):\n",
        "    or_lista = []\n",
        "    for atr in tabela_paciente_key:\n",
        "      if atr != 'P':\n",
        "       or_lista.append(Not(Atom('X' + '_' + atr + '_' + str(n + 1) + '_' + 'S')))\n",
        "    formula_or = or_all(or_lista)\n",
        "    and_lista.append(formula_or)\n",
        "\n",
        "  return and_all(and_lista)\n",
        "\n",
        "def restricao3(tabela_pacientes,regras):\n",
        "    keys = tabela_pacientes.keys()\n",
        "    first_lista = []\n",
        "    second_list = []\n",
        "    for x in keys:\n",
        "      if x == 'P':\n",
        "        for a in range(len(tabela_pacientes)):\n",
        "          if tabela_pacientes[x][a] == 0:\n",
        "            for m in range(regras):\n",
        "              first_lista=[]\n",
        "              for h in keys:\n",
        "                if h != 'P':\n",
        "                  if tabela_pacientes[h][a] == 0:\n",
        "                    first_lista.append(Atom('X' + '_' + h + '_' + str(m + 1) + '_' + 'LE'))\n",
        "                  else:\n",
        "                    first_lista.append(Atom('X' + '_' + h + '_' + str(m + 1) + '_' + 'GT'))\n",
        "              second_list.append(or_all(first_lista))\n",
        "    return(and_all(second_list))\n",
        "\n",
        "def restricao4(tabela_pacientes, regras):\n",
        "    keys = tabela_pacientes.keys()\n",
        "    first_lista = []\n",
        "    second_lista = []\n",
        "    num_pacientes_patologia=0\n",
        "    for result in keys:\n",
        "      if result == 'P':\n",
        "        for x in range(len(tabela_pacientes)):\n",
        "          if tabela_pacientes['P'][x] == 1:\n",
        "            num_pacientes_patologia += 1\n",
        "            for regra in range(regras):\n",
        "              first_lista=[]\n",
        "              for h in keys:\n",
        "                if h != 'P':\n",
        "                  if tabela_pacientes[h][x] ==0:\n",
        "                    first_lista.append(Implies(Atom('X' + '_' + h + '_' + str(regra + 1) + '_' + 'LE'), Not(Atom('C' + '_' + str(regra +1) + '_' + str(num_pacientes_patologia)))))\n",
        "                  else:\n",
        "                    first_lista.append(Implies(Atom('X' + '_' + h + '_' + str(regra + 1) + '_' + 'GT'), Not(Atom('C' + '_' + str(regra +1) + '_' + str(num_pacientes_patologia)))))\n",
        "              second_lista.append(and_all(first_lista))\n",
        "    return (and_all(second_lista))\n",
        "\n",
        "\n",
        "def restricao5 (tabela_pacientes,regras):\n",
        "  and_lista = []\n",
        "  num_pacientes_patologia = 0\n",
        "  for a in range(len(tabela_pacientes)):\n",
        "    if tabela_pacientes['P'][a] == 1:\n",
        "      num_pacientes_patologia += 1\n",
        "  for num in range(num_pacientes_patologia):\n",
        "    or_lista = []\n",
        "    for m in range(regras):\n",
        "      or_lista.append(Atom('C' + '_' + str(m + 1) + '_' + str(num + 1) ))\n",
        "    formula_or = or_all(or_lista)\n",
        "    and_lista.append(formula_or)\n",
        "  return and_all(and_lista)\n",
        "\n",
        "\n",
        "\n"
      ]
    },
    {
      "cell_type": "markdown",
      "metadata": {
        "id": "GuluJ61FIqjI"
      },
      "source": [
        "## Execução"
      ]
    },
    {
      "cell_type": "code",
      "source": [
        "from google.colab import drive\n",
        "drive.mount('/content/drive')"
      ],
      "metadata": {
        "id": "MG3apUuCwIUh",
        "colab": {
          "base_uri": "https://localhost:8080/"
        },
        "outputId": "14fd7524-812b-4a62-8569-fe0e561c5b1c"
      },
      "execution_count": null,
      "outputs": [
        {
          "output_type": "stream",
          "name": "stdout",
          "text": [
            "Mounted at /content/drive\n"
          ]
        }
      ]
    },
    {
      "cell_type": "code",
      "execution_count": null,
      "metadata": {
        "id": "JZAiIulhE6F4",
        "colab": {
          "base_uri": "https://localhost:8080/"
        },
        "outputId": "b1b358e5-93fc-451f-af24-19771350c60b"
      },
      "outputs": [
        {
          "output_type": "stream",
          "name": "stdout",
          "text": [
            "Regra 1 : ['LA =< 39.63', 'PI > 42.09'] => P\n",
            "Regra 2 : ['GS > 37.89', 'LA > 39.63'] => P\n",
            "Conjunto de regras: [\"['LA =< 39.63', 'PI > 42.09'] => P\", \"['GS > 37.89', 'LA > 39.63'] => P\"]\n"
          ]
        }
      ],
      "source": [
        "## Chamando tabela:\n",
        "tabela_paciente = pd.read_csv('/content/drive/MyDrive/Arquivos - Pacientes/column_bin_3a_4p.csv')\n",
        "lista_restrições = []\n",
        "regras = 2\n",
        "\n",
        "## Lista das restrições:\n",
        "lista_restrições.append(restricao1(tabela_paciente,regras))\n",
        "lista_restrições.append(restricao2(tabela_paciente,regras))\n",
        "lista_restrições.append(restricao3(tabela_paciente,regras))\n",
        "lista_restrições.append(restricao4(tabela_paciente,regras))\n",
        "lista_restrições.append(restricao5 (tabela_paciente,regras))\n",
        "formula_solucao = and_all(lista_restrições)\n",
        "\n",
        "## Criação das valorações:\n",
        "lista_true = []\n",
        "lista = []\n",
        "resultado = satisfiability_brute_force(formula_solucao)\n",
        "conj_regras = []\n",
        "if resultado:\n",
        "  for sai in resultado:\n",
        "    if resultado[sai]:\n",
        "      lista_true.append(sai)\n",
        "      lista_Partes = sai.name.split('_')\n",
        "      lista.append(lista_Partes)\n",
        "    #print(sai,\":\",resultado[sai])\n",
        "\n",
        "  for m in range(regras):\n",
        "   conj = []\n",
        "   for out in lista:\n",
        "     if out[0] == 'X':\n",
        "      if out[2] == str(m + 1):\n",
        "        if out[3] == 'GT':\n",
        "          atom = out[1].split()\n",
        "          conj.append(atom[0] + ' ' + '>' + ' ' + atom[2])\n",
        "        elif out[3] == 'LE':\n",
        "          atom = out[1].split()\n",
        "          conj.append(atom[0] + ' ' + '=<' + ' ' + atom[2])\n",
        "\n",
        "   conj_regras.append(str(conj) + ' => P')\n",
        "   print('Regra', (m+1), ':',conj, '=> P')\n",
        "\n",
        "if len(conj_regras) != 0:\n",
        "  print('Conjunto de regras:', conj_regras)\n",
        "else:\n",
        "  print(\"Quantidade de regras insuficiente\")"
      ]
    },
    {
      "cell_type": "markdown",
      "source": [
        "# Projeto 2 :\n"
      ],
      "metadata": {
        "id": "OHtnpx7_e17Z"
      }
    },
    {
      "cell_type": "code",
      "source": [
        "from google.colab import drive\n",
        "drive.mount('/content/drive')"
      ],
      "metadata": {
        "colab": {
          "base_uri": "https://localhost:8080/"
        },
        "id": "9wbYaFbRcmHW",
        "outputId": "e874991e-4cf5-4f4b-c7fa-96f269b13028"
      },
      "execution_count": null,
      "outputs": [
        {
          "output_type": "stream",
          "name": "stdout",
          "text": [
            "Drive already mounted at /content/drive; to attempt to forcibly remount, call drive.mount(\"/content/drive\", force_remount=True).\n"
          ]
        }
      ]
    },
    {
      "cell_type": "code",
      "source": [
        "!python -V"
      ],
      "metadata": {
        "id": "vEiI18FCk_sJ",
        "colab": {
          "base_uri": "https://localhost:8080/"
        },
        "outputId": "d271fa0a-b28d-45c1-d7f3-66bdc4e0d8ed"
      },
      "execution_count": null,
      "outputs": [
        {
          "output_type": "stream",
          "name": "stdout",
          "text": [
            "Python 3.10.11\n"
          ]
        }
      ]
    },
    {
      "cell_type": "code",
      "source": [
        "!pip install python-sat[pblib,aiger]"
      ],
      "metadata": {
        "id": "AITk9soxk-J_",
        "colab": {
          "base_uri": "https://localhost:8080/"
        },
        "outputId": "2fee12a8-63e8-4d81-9d3d-0293e1d596c4"
      },
      "execution_count": null,
      "outputs": [
        {
          "output_type": "stream",
          "name": "stdout",
          "text": [
            "Looking in indexes: https://pypi.org/simple, https://us-python.pkg.dev/colab-wheels/public/simple/\n",
            "Collecting python-sat[aiger,pblib]\n",
            "  Using cached python-sat-0.1.8.dev4.tar.gz (4.2 MB)\n",
            "  Preparing metadata (setup.py) ... \u001b[?25l\u001b[?25hdone\n",
            "Requirement already satisfied: six in /usr/local/lib/python3.10/dist-packages (from python-sat[aiger,pblib]) (1.16.0)\n",
            "Collecting pypblib>=0.0.3 (from python-sat[aiger,pblib])\n",
            "  Using cached pypblib-0.0.4-cp310-cp310-linux_x86_64.whl\n",
            "Collecting py-aiger-cnf>=2.0.0 (from python-sat[aiger,pblib])\n",
            "  Using cached py_aiger_cnf-5.0.7-py3-none-any.whl (5.1 kB)\n",
            "Collecting bidict<0.23.0,>=0.22.0 (from py-aiger-cnf>=2.0.0->python-sat[aiger,pblib])\n",
            "  Using cached bidict-0.22.1-py3-none-any.whl (35 kB)\n",
            "Collecting funcy<2.0,>=1.12 (from py-aiger-cnf>=2.0.0->python-sat[aiger,pblib])\n",
            "  Using cached funcy-1.18-py2.py3-none-any.whl (33 kB)\n",
            "Collecting py-aiger<7.0.0,>=6.0.0 (from py-aiger-cnf>=2.0.0->python-sat[aiger,pblib])\n",
            "  Using cached py_aiger-6.2.1-py3-none-any.whl (18 kB)\n",
            "Requirement already satisfied: attrs<24,>=23 in /usr/local/lib/python3.10/dist-packages (from py-aiger<7.0.0,>=6.0.0->py-aiger-cnf>=2.0.0->python-sat[aiger,pblib]) (23.1.0)\n",
            "Requirement already satisfied: pyrsistent<0.20.0,>=0.19.0 in /usr/local/lib/python3.10/dist-packages (from py-aiger<7.0.0,>=6.0.0->py-aiger-cnf>=2.0.0->python-sat[aiger,pblib]) (0.19.3)\n",
            "Requirement already satisfied: sortedcontainers<3.0.0,>=2.3.0 in /usr/local/lib/python3.10/dist-packages (from py-aiger<7.0.0,>=6.0.0->py-aiger-cnf>=2.0.0->python-sat[aiger,pblib]) (2.4.0)\n",
            "Collecting toposort<2.0,>=1.5 (from py-aiger<7.0.0,>=6.0.0->py-aiger-cnf>=2.0.0->python-sat[aiger,pblib])\n",
            "  Using cached toposort-1.10-py3-none-any.whl (8.5 kB)\n",
            "Building wheels for collected packages: python-sat\n",
            "  Building wheel for python-sat (setup.py) ... \u001b[?25l\u001b[?25hdone\n",
            "  Created wheel for python-sat: filename=python_sat-0.1.8.dev4-cp310-cp310-linux_x86_64.whl size=2112543 sha256=05f85e8c18162fa3c4c36bcbee0373d7ec6a21926a1e31bcacb776aa55bb81f9\n",
            "  Stored in directory: /root/.cache/pip/wheels/db/dd/1b/99c6ce90c2a4e0fa02b60b784206abd56ae9b07f000fc56ae8\n",
            "Successfully built python-sat\n",
            "Installing collected packages: toposort, pypblib, funcy, python-sat, bidict, py-aiger, py-aiger-cnf\n",
            "Successfully installed bidict-0.22.1 funcy-1.18 py-aiger-6.2.1 py-aiger-cnf-5.0.7 pypblib-0.0.4 python-sat-0.1.8.dev4 toposort-1.10\n"
          ]
        }
      ]
    },
    {
      "cell_type": "code",
      "source": [
        "from pysat.formula import IDPool\n",
        "from pysat.formula import CNF\n",
        "from pysat.solvers import Cadical\n",
        "import pandas as pd\n",
        "import time as tm"
      ],
      "metadata": {
        "id": "Hfs3EGJdlIfq",
        "colab": {
          "base_uri": "https://localhost:8080/",
          "height": 376
        },
        "outputId": "8b36e822-6470-4015-d942-41b1dec38194"
      },
      "execution_count": null,
      "outputs": [
        {
          "output_type": "error",
          "ename": "ImportError",
          "evalue": "ignored",
          "traceback": [
            "\u001b[0;31m---------------------------------------------------------------------------\u001b[0m",
            "\u001b[0;31mImportError\u001b[0m                               Traceback (most recent call last)",
            "\u001b[0;32m<ipython-input-5-71002d4b2d78>\u001b[0m in \u001b[0;36m<cell line: 3>\u001b[0;34m()\u001b[0m\n\u001b[1;32m      1\u001b[0m \u001b[0;32mfrom\u001b[0m \u001b[0mpysat\u001b[0m\u001b[0;34m.\u001b[0m\u001b[0mformula\u001b[0m \u001b[0;32mimport\u001b[0m \u001b[0mIDPool\u001b[0m\u001b[0;34m\u001b[0m\u001b[0;34m\u001b[0m\u001b[0m\n\u001b[1;32m      2\u001b[0m \u001b[0;32mfrom\u001b[0m \u001b[0mpysat\u001b[0m\u001b[0;34m.\u001b[0m\u001b[0mformula\u001b[0m \u001b[0;32mimport\u001b[0m \u001b[0mCNF\u001b[0m\u001b[0;34m\u001b[0m\u001b[0;34m\u001b[0m\u001b[0m\n\u001b[0;32m----> 3\u001b[0;31m \u001b[0;32mfrom\u001b[0m \u001b[0mpysat\u001b[0m\u001b[0;34m.\u001b[0m\u001b[0msolvers\u001b[0m \u001b[0;32mimport\u001b[0m \u001b[0mCadical\u001b[0m\u001b[0;34m\u001b[0m\u001b[0;34m\u001b[0m\u001b[0m\n\u001b[0m\u001b[1;32m      4\u001b[0m \u001b[0;32mimport\u001b[0m \u001b[0mpandas\u001b[0m \u001b[0;32mas\u001b[0m \u001b[0mpd\u001b[0m\u001b[0;34m\u001b[0m\u001b[0;34m\u001b[0m\u001b[0m\n\u001b[1;32m      5\u001b[0m \u001b[0;32mimport\u001b[0m \u001b[0mtime\u001b[0m \u001b[0;32mas\u001b[0m \u001b[0mtm\u001b[0m\u001b[0;34m\u001b[0m\u001b[0;34m\u001b[0m\u001b[0m\n",
            "\u001b[0;31mImportError\u001b[0m: cannot import name 'Cadical' from 'pysat.solvers' (/usr/local/lib/python3.10/dist-packages/pysat/solvers.py)",
            "",
            "\u001b[0;31m---------------------------------------------------------------------------\u001b[0;32m\nNOTE: If your import is failing due to a missing package, you can\nmanually install dependencies using either !pip or !apt.\n\nTo view examples of installing some common dependencies, click the\n\"Open Examples\" button below.\n\u001b[0;31m---------------------------------------------------------------------------\u001b[0m\n"
          ],
          "errorDetails": {
            "actions": [
              {
                "action": "open_url",
                "actionText": "Open Examples",
                "url": "/notebooks/snippets/importing_libraries.ipynb"
              }
            ]
          }
        }
      ]
    },
    {
      "cell_type": "code",
      "source": [
        "\n",
        "\n",
        "def restricao1(tabela_pacientes,regras,lista_externa,var_pool):\n",
        "  tabela_paciente_key = tabela_pacientes.keys()\n",
        "  estados = {'GT','LE','S'}\n",
        "  for m in range(regras):\n",
        "    for atr in tabela_paciente_key:\n",
        "      if atr != 'P':\n",
        "        for state in estados:\n",
        "          temp = -1*var_pool.id(Atom('X' + '_' + atr + '_' + str(m + 1) + '_' + state))\n",
        "          for tate in estados:\n",
        "            if tate != state:\n",
        "              lista_externa.append([temp,-1*var_pool.id(Atom('X' + '_' + atr + '_' + str(m+1) + '_' + tate))])\n",
        "\n",
        "\n",
        "\n",
        "\n",
        "\n",
        "def restricao2(tabela_pacientes,regras,lista_externa,var_pool):\n",
        "  tabela_paciente_key = tabela_pacientes.keys()\n",
        "  and_lista = []\n",
        "  for n in range(regras):\n",
        "    or_lista = []\n",
        "    for atr in tabela_paciente_key:\n",
        "      if atr != 'P':\n",
        "       or_lista.append(-1*var_pool.id (Atom('X' + '_' + atr + '_' + str(n + 1) + '_' + 'S')))\n",
        "    lista_externa.append(or_lista)\n",
        "\n",
        "\n",
        "\n",
        "def restricao3(tabela_pacientes,regras,lista_externa,var_pool):\n",
        "    keys = tabela_pacientes.keys()\n",
        "    first_lista = []\n",
        "    second_list = []\n",
        "    for x in keys:\n",
        "      if x == 'P':\n",
        "        for a in range(len(tabela_pacientes)):\n",
        "          if tabela_pacientes[x][a] == 0:\n",
        "            for m in range(regras):\n",
        "              first_lista=[]\n",
        "              for h in keys:\n",
        "                if h != 'P':\n",
        "                  if tabela_pacientes[h][a] == 0:\n",
        "                    first_lista.append(var_pool.id(Atom('X' + '_' + h + '_' + str(m + 1) + '_' + 'LE')))\n",
        "                  else:\n",
        "                    first_lista.append(var_pool.id(Atom('X' + '_' + h + '_' + str(m + 1) + '_' + 'GT')))\n",
        "              lista_externa.append(first_lista)\n",
        "\n",
        "\n",
        "def restricao4(tabela_pacientes, regras,lista_externa,var_pool):\n",
        "    keys = tabela_pacientes.keys()\n",
        "    first_lista = []\n",
        "    second_lista = []\n",
        "    num_pacientes_patologia=0\n",
        "    for result in keys:\n",
        "      if result == 'P':\n",
        "        for x in range(len(tabela_pacientes)):\n",
        "          if tabela_pacientes['P'][x] == 1:\n",
        "            num_pacientes_patologia += 1\n",
        "            for regra in range(regras):\n",
        "\n",
        "              for h in keys:\n",
        "                first_lista=[]\n",
        "                if h != 'P':\n",
        "                  if tabela_pacientes[h][x] ==0:\n",
        "                    first_lista.append(-1*var_pool.id(Atom('X' + '_' + h + '_' + str(regra + 1) + '_' + 'LE')))\n",
        "                    first_lista.append(-1*var_pool.id(Atom('C' + '_' + str(regra +1) + '_' + str(num_pacientes_patologia))))\n",
        "                  else:\n",
        "                    first_lista.append(-1*var_pool.id(Atom('X' + '_' + h + '_' + str(regra + 1) + '_' + 'GT')))\n",
        "                    first_lista.append(-1*var_pool.id(Atom('C' + '_' + str(regra +1) + '_' + str(num_pacientes_patologia))))\n",
        "                  lista_externa.append(first_lista)\n",
        "\n",
        "\n",
        "\n",
        "def restricao5 (tabela_pacientes,regras,lista_externa,var_pool):\n",
        "\n",
        "  num_pacientes_patologia = 0\n",
        "  for a in range(len(tabela_pacientes)):\n",
        "    if tabela_pacientes['P'][a] == 1:\n",
        "      num_pacientes_patologia += 1\n",
        "  for num in range(num_pacientes_patologia):\n",
        "    or_lista = []\n",
        "    for m in range(regras):\n",
        "      or_lista.append(var_pool.id(Atom('C' + '_' + str(m + 1) + '_' + str(num + 1) )))\n",
        "\n",
        "    lista_externa.append(or_lista)\n",
        "\n"
      ],
      "metadata": {
        "id": "xgUnq-UIfL7F"
      },
      "execution_count": null,
      "outputs": []
    },
    {
      "cell_type": "code",
      "source": [
        "\n",
        "def tradutor(solver,var_pool,regras):\n",
        " conj_regras = []\n",
        " lista = []\n",
        " conj_teste = []\n",
        " if solver.solve():\n",
        "   for sai in solver.get_model():\n",
        "     if sai > 0:\n",
        "       lista_Partes = var_pool.obj(sai).name.split('_')\n",
        "       lista.append(lista_Partes)\n",
        "       #print(var_pool.obj(sai),\": True\") ## se desejar ver todas as valorações vdd descomenta essa linha\n",
        "     #else:\n",
        "        #print(var_pool.obj(-1*sai),\": False\") ## se desejar ver todas as vaorações falsas descomenta essa linha e o else\n",
        "\n",
        "   for m in range(regras):\n",
        "    conj = []\n",
        "    test = {}\n",
        "    for out in lista:\n",
        "      if out[0] == 'X':\n",
        "       if out[2] == str(m + 1):\n",
        "         if out[3] == 'GT':\n",
        "           atom = out[1].split()\n",
        "           conj.append(atom[0] + ' ' + '>' + ' ' + atom[2])\n",
        "           test[atom[0] + ' ' + atom[1] + ' ' + atom[2]] = 0\n",
        "         elif out[3] == 'LE':\n",
        "           atom = out[1].split()\n",
        "           conj.append(atom[0] + ' ' + '=<' + ' ' + atom[2])\n",
        "           test[atom[0] + ' ' + atom[1] + ' ' + atom[2]] = 1\n",
        "\n",
        "    conj_regras.append(str(conj) + ' => P')\n",
        "    conj_teste.append(test)\n",
        "    print('Regra', (m+1), ':',conj, '=> P')\n",
        "\n",
        " if len(conj_regras) != 0:\n",
        "   print('Conjunto de regras:', conj_regras)\n",
        "   return conj_teste\n",
        " else:\n",
        "   print(\"Quantidade de regras insuficiente\")\n",
        "   return conj_teste\n"
      ],
      "metadata": {
        "id": "mUEKaKsmrx9i"
      },
      "execution_count": null,
      "outputs": []
    },
    {
      "cell_type": "code",
      "source": [
        "def taxaDeAcerto(tabela_teste,conjuntoDeRegras,regras):\n",
        "    acertos = 0\n",
        "    erros = 0\n",
        "    doentes = 0\n",
        "    suadaveis = 0\n",
        "    trava = True\n",
        "    for l in range(len(tabela_teste)):\n",
        "      trava = True\n",
        "      insat = True\n",
        "      for r in range(regras):\n",
        "        conj = conjuntoDeRegras[r]\n",
        "        sicronia = 0\n",
        "        for t in conj:\n",
        "          for m in tabela_teste.keys():\n",
        "            if t == m:\n",
        "              if conj[t] == tabela_teste[m][l]:\n",
        "                sicronia = sicronia + 1\n",
        "        if sicronia == len(conj):\n",
        "          if trava:\n",
        "            if tabela_teste[\"P\"][l] == 1:\n",
        "              acertos = acertos + 1\n",
        "              trava = False\n",
        "              insat = False\n",
        "            elif tabela_teste[\"P\"][l] == 0:\n",
        "              erros = erros + 1\n",
        "              trava = False\n",
        "              insat = False\n",
        "      if insat:\n",
        "        if tabela_teste[\"P\"][l] == 0:\n",
        "              acertos = acertos + 1\n",
        "        elif tabela_teste[\"P\"][l] == 1:\n",
        "              erros = erros + 1\n",
        "\n",
        "    for c in range(len(tabela_teste)):\n",
        "      if tabela_teste[\"P\"][c] == 1:\n",
        "        doentes = doentes + 1\n",
        "      else:\n",
        "        suadaveis = suadaveis + 1\n",
        "\n",
        "    print(\"Quantidade total de acertos: \",acertos)\n",
        "    print(\"Porcentagm de acerto:\",(acertos/len(tabela_teste))*100,\"%\")\n",
        "    print(\"quantidade total de erros: \",erros)\n",
        "    print(\"Porcentagm de erro:\",(erros/len(tabela_teste))*100,\"%\")\n",
        "\n",
        "\n",
        "\n",
        "\n",
        "\n",
        "\n",
        "\n",
        "\n",
        ""
      ],
      "metadata": {
        "id": "Eq4Z6ejGObDK"
      },
      "execution_count": null,
      "outputs": []
    },
    {
      "cell_type": "code",
      "source": [
        "tabela_paciente = pd.read_csv('/content/drive/MyDrive/Arquivos - Pacientes/column_bin_36a_155p.csv')\n",
        "tabela_teste = pd.read_csv('/content/drive/MyDrive/Arquivos - Pacientes/column_bin_36a_155p_test.csv')\n",
        "keys = tabela_paciente.keys()\n",
        "trava = True\n",
        "regra = 0\n",
        "start = tm.time()\n",
        "\n",
        "while trava:\n",
        "    regra = regra + 1\n",
        "    lista_externa = []\n",
        "    var_pool = IDPool()\n",
        "    solver = Cadical()\n",
        "    restricao1(tabela_paciente,regra,lista_externa,var_pool)\n",
        "    restricao2(tabela_paciente,regra,lista_externa,var_pool)\n",
        "    restricao3(tabela_paciente,regra,lista_externa,var_pool)\n",
        "    restricao4(tabela_paciente,regra,lista_externa,var_pool)\n",
        "    restricao5(tabela_paciente,regra,lista_externa,var_pool)\n",
        "    solver.append_formula(lista_externa)\n",
        "    if solver.solve():\n",
        "      trava = False\n",
        "\n",
        "\n",
        "end = tm.time()\n",
        "print('tempo de execução: ',format(end-start), 'Segundos')\n",
        "print(\"\")\n",
        "conjuntoDeRegras = tradutor(solver,var_pool,regra)\n",
        "print(\"\")\n",
        "taxaDeAcerto(tabela_teste,conjuntoDeRegras,regra)\n",
        "\n"
      ],
      "metadata": {
        "id": "BeGHBC_ysqgP"
      },
      "execution_count": null,
      "outputs": []
    },
    {
      "cell_type": "code",
      "source": [
        "restricao1(tabela_paciente,9,lista_externa,var_pool)"
      ],
      "metadata": {
        "id": "0xz-N11wLDoF"
      },
      "execution_count": null,
      "outputs": []
    }
  ],
  "metadata": {
    "colab": {
      "provenance": [],
      "collapsed_sections": [
        "Sv9V_ExErlJu",
        "8gMhNhPDsUu0",
        "T169vMS1roBa",
        "C207qU2TbX0v"
      ],
      "include_colab_link": true
    },
    "kernelspec": {
      "display_name": "Python 3",
      "name": "python3"
    },
    "language_info": {
      "name": "python"
    }
  },
  "nbformat": 4,
  "nbformat_minor": 0
}